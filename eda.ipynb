{
 "cells": [
  {
   "cell_type": "code",
   "execution_count": 1,
   "metadata": {},
   "outputs": [],
   "source": [
    "import pandas as pd\n",
    "pd.set_option('display.max_columns',50)\n",
    "import seaborn as sns\n",
    "import matplotlib.pyplot as plt\n",
    "import numpy as np\n",
    "import squarify"
   ]
  },
  {
   "cell_type": "code",
   "execution_count": 2,
   "metadata": {},
   "outputs": [],
   "source": [
    "# default style\n",
    "plt.style.use('fivethirtyeight')\n",
    "sns.set(rc={'axes.facecolor': 'f0f0f0','figure.facecolor': 'f0f0f0', 'grid.color': 'cbcbcb', 'grid.linewidth': '1.0', 'axes.edgecolor': 'f0f0f0','patch.edgecolor': 'f0f0f0'})\n",
    "fivethirtyeight_colors = ['#008fd5', '#fc4f30', '#e5ae38', '#6d904f', '#8b8b8b', '#810f7c']"
   ]
  },
  {
   "cell_type": "code",
   "execution_count": 3,
   "metadata": {},
   "outputs": [],
   "source": [
    "# read in data\n",
    "df = pd.read_csv('shot_logs.csv')\n"
   ]
  },
  {
   "cell_type": "code",
   "execution_count": 4,
   "metadata": {},
   "outputs": [
    {
     "name": "stdout",
     "output_type": "stream",
     "text": [
      "<class 'pandas.core.frame.DataFrame'>\n",
      "RangeIndex: 128069 entries, 0 to 128068\n",
      "Data columns (total 21 columns):\n",
      " #   Column                      Non-Null Count   Dtype  \n",
      "---  ------                      --------------   -----  \n",
      " 0   GAME_ID                     128069 non-null  int64  \n",
      " 1   MATCHUP                     128069 non-null  object \n",
      " 2   LOCATION                    128069 non-null  object \n",
      " 3   W                           128069 non-null  object \n",
      " 4   FINAL_MARGIN                128069 non-null  int64  \n",
      " 5   SHOT_NUMBER                 128069 non-null  int64  \n",
      " 6   PERIOD                      128069 non-null  int64  \n",
      " 7   GAME_CLOCK                  128069 non-null  object \n",
      " 8   SHOT_CLOCK                  122502 non-null  float64\n",
      " 9   DRIBBLES                    128069 non-null  int64  \n",
      " 10  TOUCH_TIME                  128069 non-null  float64\n",
      " 11  SHOT_DIST                   128069 non-null  float64\n",
      " 12  PTS_TYPE                    128069 non-null  int64  \n",
      " 13  SHOT_RESULT                 128069 non-null  object \n",
      " 14  CLOSEST_DEFENDER            128069 non-null  object \n",
      " 15  CLOSEST_DEFENDER_PLAYER_ID  128069 non-null  int64  \n",
      " 16  CLOSE_DEF_DIST              128069 non-null  float64\n",
      " 17  FGM                         128069 non-null  int64  \n",
      " 18  PTS                         128069 non-null  int64  \n",
      " 19  player_name                 128069 non-null  object \n",
      " 20  player_id                   128069 non-null  int64  \n",
      "dtypes: float64(4), int64(10), object(7)\n",
      "memory usage: 20.5+ MB\n"
     ]
    }
   ],
   "source": [
    "df.info()"
   ]
  },
  {
   "cell_type": "code",
   "execution_count": 5,
   "metadata": {},
   "outputs": [
    {
     "data": {
      "text/plain": [
       "GAME_ID                        904\n",
       "MATCHUP                       1808\n",
       "LOCATION                         2\n",
       "W                                2\n",
       "FINAL_MARGIN                    88\n",
       "SHOT_NUMBER                     38\n",
       "PERIOD                           7\n",
       "GAME_CLOCK                     719\n",
       "SHOT_CLOCK                     241\n",
       "DRIBBLES                        33\n",
       "TOUCH_TIME                     313\n",
       "SHOT_DIST                      448\n",
       "PTS_TYPE                         2\n",
       "SHOT_RESULT                      2\n",
       "CLOSEST_DEFENDER               473\n",
       "CLOSEST_DEFENDER_PLAYER_ID     474\n",
       "CLOSE_DEF_DIST                 299\n",
       "FGM                              2\n",
       "PTS                              3\n",
       "player_name                    281\n",
       "player_id                      281\n",
       "dtype: int64"
      ]
     },
     "execution_count": 5,
     "metadata": {},
     "output_type": "execute_result"
    }
   ],
   "source": [
    "# # of unique values in every columns\n",
    "df.nunique()"
   ]
  },
  {
   "cell_type": "markdown",
   "metadata": {},
   "source": [
    "## Preprocessing"
   ]
  },
  {
   "cell_type": "code",
   "execution_count": 6,
   "metadata": {},
   "outputs": [
    {
     "data": {
      "text/html": [
       "<div>\n",
       "<style scoped>\n",
       "    .dataframe tbody tr th:only-of-type {\n",
       "        vertical-align: middle;\n",
       "    }\n",
       "\n",
       "    .dataframe tbody tr th {\n",
       "        vertical-align: top;\n",
       "    }\n",
       "\n",
       "    .dataframe thead th {\n",
       "        text-align: right;\n",
       "    }\n",
       "</style>\n",
       "<table border=\"1\" class=\"dataframe\">\n",
       "  <thead>\n",
       "    <tr style=\"text-align: right;\">\n",
       "      <th></th>\n",
       "      <th>GAME_ID</th>\n",
       "      <th>MATCHUP</th>\n",
       "      <th>LOCATION</th>\n",
       "      <th>W</th>\n",
       "      <th>FINAL_MARGIN</th>\n",
       "      <th>SHOT_NUMBER</th>\n",
       "      <th>PERIOD</th>\n",
       "      <th>GAME_CLOCK</th>\n",
       "      <th>SHOT_CLOCK</th>\n",
       "      <th>DRIBBLES</th>\n",
       "      <th>TOUCH_TIME</th>\n",
       "      <th>SHOT_DIST</th>\n",
       "      <th>PTS_TYPE</th>\n",
       "      <th>SHOT_RESULT</th>\n",
       "      <th>CLOSEST_DEFENDER</th>\n",
       "      <th>CLOSEST_DEFENDER_PLAYER_ID</th>\n",
       "      <th>CLOSE_DEF_DIST</th>\n",
       "      <th>FGM</th>\n",
       "      <th>PTS</th>\n",
       "      <th>player_name</th>\n",
       "      <th>player_id</th>\n",
       "    </tr>\n",
       "  </thead>\n",
       "  <tbody>\n",
       "    <tr>\n",
       "      <th>2</th>\n",
       "      <td>21400899</td>\n",
       "      <td>MAR 04, 2015 - CHA @ BKN</td>\n",
       "      <td>A</td>\n",
       "      <td>W</td>\n",
       "      <td>24</td>\n",
       "      <td>3</td>\n",
       "      <td>1</td>\n",
       "      <td>0:00</td>\n",
       "      <td>NaN</td>\n",
       "      <td>3</td>\n",
       "      <td>2.7</td>\n",
       "      <td>10.1</td>\n",
       "      <td>2</td>\n",
       "      <td>missed</td>\n",
       "      <td>Bogdanovic, Bojan</td>\n",
       "      <td>202711</td>\n",
       "      <td>0.9</td>\n",
       "      <td>0</td>\n",
       "      <td>0</td>\n",
       "      <td>brian roberts</td>\n",
       "      <td>203148</td>\n",
       "    </tr>\n",
       "    <tr>\n",
       "      <th>24</th>\n",
       "      <td>21400845</td>\n",
       "      <td>FEB 25, 2015 - CHA @ CHI</td>\n",
       "      <td>A</td>\n",
       "      <td>W</td>\n",
       "      <td>12</td>\n",
       "      <td>6</td>\n",
       "      <td>2</td>\n",
       "      <td>0:04</td>\n",
       "      <td>NaN</td>\n",
       "      <td>0</td>\n",
       "      <td>0.7</td>\n",
       "      <td>25.2</td>\n",
       "      <td>3</td>\n",
       "      <td>missed</td>\n",
       "      <td>Butler, Jimmy</td>\n",
       "      <td>202710</td>\n",
       "      <td>3.6</td>\n",
       "      <td>0</td>\n",
       "      <td>0</td>\n",
       "      <td>brian roberts</td>\n",
       "      <td>203148</td>\n",
       "    </tr>\n",
       "    <tr>\n",
       "      <th>54</th>\n",
       "      <td>21400768</td>\n",
       "      <td>FEB 08, 2015 - CHA vs. IND</td>\n",
       "      <td>H</td>\n",
       "      <td>L</td>\n",
       "      <td>-1</td>\n",
       "      <td>14</td>\n",
       "      <td>4</td>\n",
       "      <td>0:01</td>\n",
       "      <td>NaN</td>\n",
       "      <td>5</td>\n",
       "      <td>3.7</td>\n",
       "      <td>34.4</td>\n",
       "      <td>3</td>\n",
       "      <td>missed</td>\n",
       "      <td>Hill, George</td>\n",
       "      <td>201588</td>\n",
       "      <td>3.6</td>\n",
       "      <td>0</td>\n",
       "      <td>0</td>\n",
       "      <td>brian roberts</td>\n",
       "      <td>203148</td>\n",
       "    </tr>\n",
       "    <tr>\n",
       "      <th>76</th>\n",
       "      <td>21400742</td>\n",
       "      <td>FEB 05, 2015 - CHA vs. WAS</td>\n",
       "      <td>H</td>\n",
       "      <td>W</td>\n",
       "      <td>7</td>\n",
       "      <td>10</td>\n",
       "      <td>3</td>\n",
       "      <td>0:01</td>\n",
       "      <td>NaN</td>\n",
       "      <td>2</td>\n",
       "      <td>3.6</td>\n",
       "      <td>13.1</td>\n",
       "      <td>2</td>\n",
       "      <td>made</td>\n",
       "      <td>Butler, Rasual</td>\n",
       "      <td>2446</td>\n",
       "      <td>2.5</td>\n",
       "      <td>1</td>\n",
       "      <td>2</td>\n",
       "      <td>brian roberts</td>\n",
       "      <td>203148</td>\n",
       "    </tr>\n",
       "    <tr>\n",
       "      <th>129</th>\n",
       "      <td>21400611</td>\n",
       "      <td>JAN 19, 2015 - CHA vs. MIN</td>\n",
       "      <td>H</td>\n",
       "      <td>W</td>\n",
       "      <td>25</td>\n",
       "      <td>7</td>\n",
       "      <td>2</td>\n",
       "      <td>0:02</td>\n",
       "      <td>NaN</td>\n",
       "      <td>5</td>\n",
       "      <td>5.0</td>\n",
       "      <td>12.0</td>\n",
       "      <td>2</td>\n",
       "      <td>missed</td>\n",
       "      <td>Williams, Mo</td>\n",
       "      <td>2590</td>\n",
       "      <td>4.0</td>\n",
       "      <td>0</td>\n",
       "      <td>0</td>\n",
       "      <td>brian roberts</td>\n",
       "      <td>203148</td>\n",
       "    </tr>\n",
       "  </tbody>\n",
       "</table>\n",
       "</div>"
      ],
      "text/plain": [
       "      GAME_ID                     MATCHUP LOCATION  W  FINAL_MARGIN  \\\n",
       "2    21400899    MAR 04, 2015 - CHA @ BKN        A  W            24   \n",
       "24   21400845    FEB 25, 2015 - CHA @ CHI        A  W            12   \n",
       "54   21400768  FEB 08, 2015 - CHA vs. IND        H  L            -1   \n",
       "76   21400742  FEB 05, 2015 - CHA vs. WAS        H  W             7   \n",
       "129  21400611  JAN 19, 2015 - CHA vs. MIN        H  W            25   \n",
       "\n",
       "     SHOT_NUMBER  PERIOD GAME_CLOCK  SHOT_CLOCK  DRIBBLES  TOUCH_TIME  \\\n",
       "2              3       1       0:00         NaN         3         2.7   \n",
       "24             6       2       0:04         NaN         0         0.7   \n",
       "54            14       4       0:01         NaN         5         3.7   \n",
       "76            10       3       0:01         NaN         2         3.6   \n",
       "129            7       2       0:02         NaN         5         5.0   \n",
       "\n",
       "     SHOT_DIST  PTS_TYPE SHOT_RESULT   CLOSEST_DEFENDER  \\\n",
       "2         10.1         2      missed  Bogdanovic, Bojan   \n",
       "24        25.2         3      missed      Butler, Jimmy   \n",
       "54        34.4         3      missed       Hill, George   \n",
       "76        13.1         2        made     Butler, Rasual   \n",
       "129       12.0         2      missed       Williams, Mo   \n",
       "\n",
       "     CLOSEST_DEFENDER_PLAYER_ID  CLOSE_DEF_DIST  FGM  PTS    player_name  \\\n",
       "2                        202711             0.9    0    0  brian roberts   \n",
       "24                       202710             3.6    0    0  brian roberts   \n",
       "54                       201588             3.6    0    0  brian roberts   \n",
       "76                         2446             2.5    1    2  brian roberts   \n",
       "129                        2590             4.0    0    0  brian roberts   \n",
       "\n",
       "     player_id  \n",
       "2       203148  \n",
       "24      203148  \n",
       "54      203148  \n",
       "76      203148  \n",
       "129     203148  "
      ]
     },
     "execution_count": 6,
     "metadata": {},
     "output_type": "execute_result"
    }
   ],
   "source": [
    "# inspect nan rows\n",
    "df[df['SHOT_CLOCK'].isna()].head()"
   ]
  },
  {
   "cell_type": "code",
   "execution_count": 7,
   "metadata": {},
   "outputs": [],
   "source": [
    "# Nan in SHOT_CLOCK = 0 \n",
    "df['SHOT_CLOCK'] = df['SHOT_CLOCK'].fillna(0)"
   ]
  },
  {
   "cell_type": "code",
   "execution_count": 8,
   "metadata": {},
   "outputs": [],
   "source": [
    "# Converg GAME_CLOCK to seconds\n",
    "df['GAME_CLOCK'] = df['GAME_CLOCK'].apply(lambda x: int(x.split(\":\")[0])*60+int(x.split(\":\")[1]))\n"
   ]
  },
  {
   "cell_type": "code",
   "execution_count": 9,
   "metadata": {},
   "outputs": [],
   "source": [
    "# function to parse home & away team from matchup text\n",
    "def get_team_name(x):\n",
    "    output = {}\n",
    "    if '@' in x:\n",
    "        output['home'] = x[x.find('@')+1:].strip()\n",
    "        output['away'] = x[x.find('@')-4:x.find('@')-1].strip()\n",
    "    elif 'vs.' in x:\n",
    "        output['home'] = x[x.find('vs.')-4:x.find('vs.')-1].strip()\n",
    "        output['away'] = x[x.find('vs.')+4:].strip()\n",
    "    return output\n",
    "        \n",
    "# home and away team\n",
    "df['home'] = df['MATCHUP'].apply(lambda x: get_team_name(x)['home'])\n",
    "df['away'] = df['MATCHUP'].apply(lambda x: get_team_name(x)['away'])\n",
    "\n",
    "df['team'] = df.apply(lambda x: x['home'] if x['LOCATION'] == 'H' else x['away'], axis=1)\n",
    "df['opponent'] = df.apply(lambda x: x['home'] if x['LOCATION'] == 'A' else x['away'], axis=1)\n",
    "\n"
   ]
  },
  {
   "cell_type": "markdown",
   "metadata": {},
   "source": [
    "## Exploratory Data Analysis"
   ]
  },
  {
   "cell_type": "code",
   "execution_count": 10,
   "metadata": {},
   "outputs": [
    {
     "data": {
      "text/html": [
       "<div>\n",
       "<style scoped>\n",
       "    .dataframe tbody tr th:only-of-type {\n",
       "        vertical-align: middle;\n",
       "    }\n",
       "\n",
       "    .dataframe tbody tr th {\n",
       "        vertical-align: top;\n",
       "    }\n",
       "\n",
       "    .dataframe thead th {\n",
       "        text-align: right;\n",
       "    }\n",
       "</style>\n",
       "<table border=\"1\" class=\"dataframe\">\n",
       "  <thead>\n",
       "    <tr style=\"text-align: right;\">\n",
       "      <th></th>\n",
       "      <th>GAME_ID</th>\n",
       "    </tr>\n",
       "    <tr>\n",
       "      <th>team</th>\n",
       "      <th></th>\n",
       "    </tr>\n",
       "  </thead>\n",
       "  <tbody>\n",
       "    <tr>\n",
       "      <th>ATL</th>\n",
       "      <td>60</td>\n",
       "    </tr>\n",
       "    <tr>\n",
       "      <th>BKN</th>\n",
       "      <td>59</td>\n",
       "    </tr>\n",
       "    <tr>\n",
       "      <th>BOS</th>\n",
       "      <td>59</td>\n",
       "    </tr>\n",
       "    <tr>\n",
       "      <th>CHA</th>\n",
       "      <td>59</td>\n",
       "    </tr>\n",
       "    <tr>\n",
       "      <th>CHI</th>\n",
       "      <td>61</td>\n",
       "    </tr>\n",
       "    <tr>\n",
       "      <th>CLE</th>\n",
       "      <td>62</td>\n",
       "    </tr>\n",
       "    <tr>\n",
       "      <th>DAL</th>\n",
       "      <td>62</td>\n",
       "    </tr>\n",
       "    <tr>\n",
       "      <th>DEN</th>\n",
       "      <td>61</td>\n",
       "    </tr>\n",
       "    <tr>\n",
       "      <th>DET</th>\n",
       "      <td>60</td>\n",
       "    </tr>\n",
       "    <tr>\n",
       "      <th>GSW</th>\n",
       "      <td>59</td>\n",
       "    </tr>\n",
       "    <tr>\n",
       "      <th>HOU</th>\n",
       "      <td>60</td>\n",
       "    </tr>\n",
       "    <tr>\n",
       "      <th>IND</th>\n",
       "      <td>60</td>\n",
       "    </tr>\n",
       "    <tr>\n",
       "      <th>LAC</th>\n",
       "      <td>62</td>\n",
       "    </tr>\n",
       "    <tr>\n",
       "      <th>LAL</th>\n",
       "      <td>60</td>\n",
       "    </tr>\n",
       "    <tr>\n",
       "      <th>MEM</th>\n",
       "      <td>60</td>\n",
       "    </tr>\n",
       "    <tr>\n",
       "      <th>MIA</th>\n",
       "      <td>59</td>\n",
       "    </tr>\n",
       "    <tr>\n",
       "      <th>MIL</th>\n",
       "      <td>60</td>\n",
       "    </tr>\n",
       "    <tr>\n",
       "      <th>MIN</th>\n",
       "      <td>59</td>\n",
       "    </tr>\n",
       "    <tr>\n",
       "      <th>NOP</th>\n",
       "      <td>61</td>\n",
       "    </tr>\n",
       "    <tr>\n",
       "      <th>NYK</th>\n",
       "      <td>59</td>\n",
       "    </tr>\n",
       "    <tr>\n",
       "      <th>OKC</th>\n",
       "      <td>61</td>\n",
       "    </tr>\n",
       "    <tr>\n",
       "      <th>ORL</th>\n",
       "      <td>62</td>\n",
       "    </tr>\n",
       "    <tr>\n",
       "      <th>PHI</th>\n",
       "      <td>61</td>\n",
       "    </tr>\n",
       "    <tr>\n",
       "      <th>PHX</th>\n",
       "      <td>62</td>\n",
       "    </tr>\n",
       "    <tr>\n",
       "      <th>POR</th>\n",
       "      <td>59</td>\n",
       "    </tr>\n",
       "    <tr>\n",
       "      <th>SAC</th>\n",
       "      <td>59</td>\n",
       "    </tr>\n",
       "    <tr>\n",
       "      <th>SAS</th>\n",
       "      <td>60</td>\n",
       "    </tr>\n",
       "    <tr>\n",
       "      <th>TOR</th>\n",
       "      <td>61</td>\n",
       "    </tr>\n",
       "    <tr>\n",
       "      <th>UTA</th>\n",
       "      <td>60</td>\n",
       "    </tr>\n",
       "    <tr>\n",
       "      <th>WAS</th>\n",
       "      <td>61</td>\n",
       "    </tr>\n",
       "  </tbody>\n",
       "</table>\n",
       "</div>"
      ],
      "text/plain": [
       "      GAME_ID\n",
       "team         \n",
       "ATL        60\n",
       "BKN        59\n",
       "BOS        59\n",
       "CHA        59\n",
       "CHI        61\n",
       "CLE        62\n",
       "DAL        62\n",
       "DEN        61\n",
       "DET        60\n",
       "GSW        59\n",
       "HOU        60\n",
       "IND        60\n",
       "LAC        62\n",
       "LAL        60\n",
       "MEM        60\n",
       "MIA        59\n",
       "MIL        60\n",
       "MIN        59\n",
       "NOP        61\n",
       "NYK        59\n",
       "OKC        61\n",
       "ORL        62\n",
       "PHI        61\n",
       "PHX        62\n",
       "POR        59\n",
       "SAC        59\n",
       "SAS        60\n",
       "TOR        61\n",
       "UTA        60\n",
       "WAS        61"
      ]
     },
     "execution_count": 10,
     "metadata": {},
     "output_type": "execute_result"
    }
   ],
   "source": [
    "# games played by each team \n",
    "df.groupby('team').agg({'GAME_ID':pd.Series.nunique})"
   ]
  },
  {
   "cell_type": "markdown",
   "metadata": {},
   "source": [
    "Important: Followers of NBA should know that each NBA team plays 82 games in the regular season (exc. the lockout season in 2011), however from the above table, each team has only played 5-60 games, indicating that **this is an incomplete dataset that does not cover all the games played through the season.** As a result, some team's gameplays against some other teams are missing, e.g. in the dataset ATL has never played against PHX."
   ]
  },
  {
   "cell_type": "code",
   "execution_count": 11,
   "metadata": {},
   "outputs": [
    {
     "data": {
      "text/plain": [
       "33"
      ]
     },
     "execution_count": 11,
     "metadata": {},
     "output_type": "execute_result"
    }
   ],
   "source": [
    "len(df[(df['GAME_ID']==21400862)&(df['team']=='MIN')])"
   ]
  },
  {
   "cell_type": "markdown",
   "metadata": {},
   "source": [
    "Also, even the dataset does include a certain game, the data does not contain the full shot logs of the game, eg. GAME_ID 21400862, MIN only had 33 shot logs, which clearly is incomplete. Therefore **it is important that we bear in mind that all the analysis below is only based on partial data of the season.** \n",
    "\n",
    "Given there's 30 teams, each playing 82 regular season games, assuming the average FG attempt # of each team being 70, there should be a total of 30x82x70=177,200 shot log entries."
   ]
  },
  {
   "cell_type": "code",
   "execution_count": 12,
   "metadata": {},
   "outputs": [],
   "source": [
    "# drop game shot log records where the team's FG attempt # is less than 60\n",
    "shot_count = df.groupby(['team', 'GAME_ID'], as_index=False).agg({'SHOT_NUMBER': 'count'}).rename(columns={'SHOT_NUMBER':'shot_count'})\n",
    "df = df.merge(shot_count, how='left', on=['team','GAME_ID'])\n",
    "df = df[df['shot_count']>=60]"
   ]
  },
  {
   "cell_type": "markdown",
   "metadata": {},
   "source": [
    "### Defense"
   ]
  },
  {
   "cell_type": "markdown",
   "metadata": {},
   "source": [
    "##### Avg. shot attempts # of opponents"
   ]
  },
  {
   "cell_type": "code",
   "execution_count": 13,
   "metadata": {},
   "outputs": [],
   "source": [
    "# average shots attempts of opponents allowed per team\n",
    "opp_shots_per_game = df.groupby(['opponent', 'GAME_ID'], as_index=False).agg({'SHOT_NUMBER': 'count'})\n",
    "opp_shots_per_game = opp_shots_per_game.groupby('opponent',as_index=False).agg({'SHOT_NUMBER':'mean'})\n",
    "opp_shots_per_game.columns = ['team', 'opponent shots allowed']\n",
    "\n",
    "# sort by # shots allowed\n",
    "opp_shots_per_game = opp_shots_per_game.sort_values('opponent shots allowed')"
   ]
  },
  {
   "cell_type": "code",
   "execution_count": 14,
   "metadata": {},
   "outputs": [
    {
     "data": {
      "image/png": "[encoded data removed]",
      "text/plain": [
       "<Figure size 360x576 with 1 Axes>"
      ]
     },
     "metadata": {},
     "output_type": "display_data"
    }
   ],
   "source": [
    "# plot\n",
    "plt.figure(figsize=(5,8))\n",
    "sns.barplot(data=opp_shots_per_game, x='opponent shots allowed',\n",
    "            y='team', color='#008fd5', saturation=1)\n",
    "plt.title('Avg. Shots Allowed of Opponent Team', loc='left', size=13, fontweight='bold')\n",
    "plt.yticks(size=9)\n",
    "plt.xticks(size=9)\n",
    "plt.show()\n"
   ]
  },
  {
   "cell_type": "markdown",
   "metadata": {},
   "source": [
    "##### Shots made against each team"
   ]
  },
  {
   "cell_type": "code",
   "execution_count": 15,
   "metadata": {},
   "outputs": [
    {
     "data": {
      "image/png": "[encoded data removed]",
      "text/plain": [
       "<Figure size 576x504 with 2 Axes>"
      ]
     },
     "metadata": {},
     "output_type": "display_data"
    }
   ],
   "source": [
    "# detailed avg shots made per opponent \n",
    "_ = df[df['SHOT_RESULT']=='made'].groupby(['opponent', 'team', 'GAME_ID'], as_index=False).agg(\n",
    "    {'SHOT_NUMBER': 'count'})\n",
    "avg_shots_matrix = pd.pivot_table(_, values='SHOT_NUMBER', index=['opponent'], columns=[\n",
    "               'team'], aggfunc=np.mean)\n",
    "\n",
    "# plot heatmap of teams' performance against other teams\n",
    "plt.figure(figsize=(8,7))\n",
    "sns.heatmap(avg_shots_matrix, cmap='Blues')\n",
    "plt.title('Performance Heatmap Against Other Teams', loc='left',size=13, fontweight='bold')\n",
    "plt.show()\n"
   ]
  },
  {
   "cell_type": "markdown",
   "metadata": {},
   "source": [
    "##### Average shot distance of opponent team\n",
    "The lower the avg. shot distance allowed of opponent, the tighter the defense of the team."
   ]
  },
  {
   "cell_type": "code",
   "execution_count": 16,
   "metadata": {},
   "outputs": [
    {
     "data": {
      "image/png": "[encoded data removed]",
      "text/plain": [
       "<Figure size 504x360 with 1 Axes>"
      ]
     },
     "metadata": {},
     "output_type": "display_data"
    }
   ],
   "source": [
    "# average shot distance of opponent\n",
    "opp_shot_dist = df.groupby('opponent').agg({'SHOT_DIST':'mean'}).sort_values('SHOT_DIST')\n",
    "\n",
    "# plot\n",
    "plt.figure(figsize=(7, 5))\n",
    "plt.scatter(x=opp_shot_dist.index,y=opp_shot_dist['SHOT_DIST'], color='#008fd5', zorder=1)\n",
    "plt.scatter(x=opp_shot_dist.index[-1], y=opp_shot_dist['SHOT_DIST'][-1], color='#6d904f', zorder=2)\n",
    "plt.scatter(x=opp_shot_dist.index[0],y=opp_shot_dist['SHOT_DIST'][0], color='#fc4f30', zorder=3)\n",
    "plt.title('Avg. Shot Distance of Opponent Team', loc='left',size=13,fontweight='bold')\n",
    "plt.ylim([12,15])\n",
    "plt.xticks(rotation=90)\n",
    "plt.show()"
   ]
  },
  {
   "cell_type": "markdown",
   "metadata": {},
   "source": [
    "##### Successful defense percentage"
   ]
  },
  {
   "cell_type": "code",
   "execution_count": 49,
   "metadata": {},
   "outputs": [],
   "source": [
    "# successful defense percentage\n",
    "defense = df.groupby([\"CLOSEST_DEFENDER\",\"SHOT_RESULT\"]).size().unstack(fill_value=0)\n",
    "defense['total_shots_defended'] = defense['made'] + defense['missed']\n",
    "defense['successful_defense'] = defense.apply(lambda x: x['missed']/(x['missed']+x['made']), axis=1)"
   ]
  },
  {
   "cell_type": "code",
   "execution_count": 50,
   "metadata": {},
   "outputs": [
    {
     "data": {
      "image/png": "[encoded data removed]",
      "text/plain": [
       "<Figure size 432x288 with 1 Axes>"
      ]
     },
     "metadata": {},
     "output_type": "display_data"
    }
   ],
   "source": [
    "# distribution of # shots defended\n",
    "x = defense['total_shots_defended']\n",
    "sns.histplot(x, bins=30)\n",
    "plt.title('Player Defensive Play Count', loc='left',pad=20, size=13, fontweight='bold')\n",
    "plt.show()"
   ]
  },
  {
   "cell_type": "code",
   "execution_count": 51,
   "metadata": {},
   "outputs": [
    {
     "data": {
      "text/plain": [
       "225.0"
      ]
     },
     "execution_count": 51,
     "metadata": {},
     "output_type": "execute_result"
    }
   ],
   "source": [
    "# shots defended median\n",
    "defense['total_shots_defended'].median()"
   ]
  },
  {
   "cell_type": "code",
   "execution_count": 52,
   "metadata": {},
   "outputs": [
    {
     "data": {
      "image/png": "[encoded data removed]",
      "text/plain": [
       "<Figure size 432x288 with 1 Axes>"
      ]
     },
     "metadata": {},
     "output_type": "display_data"
    }
   ],
   "source": [
    "# plot distribution of successful defense percentage with min. 250 shots defended\n",
    "min_shots_defended = 250\n",
    "x = defense[defense['total_shots_defended'] > min_shots_defended]['successful_defense']\n",
    "sns.histplot(x,bins=30)\n",
    "plt.title('Player Successful Defensive Play %', loc='left',pad=20, size=13, fontweight='bold')\n",
    "plt.show()"
   ]
  },
  {
   "cell_type": "code",
   "execution_count": 33,
   "metadata": {},
   "outputs": [
    {
     "data": {
      "text/html": [
       "<div>\n",
       "<style scoped>\n",
       "    .dataframe tbody tr th:only-of-type {\n",
       "        vertical-align: middle;\n",
       "    }\n",
       "\n",
       "    .dataframe tbody tr th {\n",
       "        vertical-align: top;\n",
       "    }\n",
       "\n",
       "    .dataframe thead th {\n",
       "        text-align: right;\n",
       "    }\n",
       "</style>\n",
       "<table border=\"1\" class=\"dataframe\">\n",
       "  <thead>\n",
       "    <tr style=\"text-align: right;\">\n",
       "      <th>SHOT_RESULT</th>\n",
       "      <th>CLOSEST_DEFENDER</th>\n",
       "      <th>made</th>\n",
       "      <th>missed</th>\n",
       "      <th>total_shots_defended</th>\n",
       "      <th>successful_defense</th>\n",
       "    </tr>\n",
       "  </thead>\n",
       "  <tbody>\n",
       "    <tr>\n",
       "      <th>0</th>\n",
       "      <td>Acy, Quincy</td>\n",
       "      <td>83</td>\n",
       "      <td>121</td>\n",
       "      <td>204</td>\n",
       "      <td>0.593137</td>\n",
       "    </tr>\n",
       "    <tr>\n",
       "      <th>1</th>\n",
       "      <td>Adams, Jordan</td>\n",
       "      <td>12</td>\n",
       "      <td>11</td>\n",
       "      <td>23</td>\n",
       "      <td>0.478261</td>\n",
       "    </tr>\n",
       "    <tr>\n",
       "      <th>2</th>\n",
       "      <td>Adams, Steven</td>\n",
       "      <td>200</td>\n",
       "      <td>236</td>\n",
       "      <td>436</td>\n",
       "      <td>0.541284</td>\n",
       "    </tr>\n",
       "    <tr>\n",
       "      <th>3</th>\n",
       "      <td>Adrien, Jeff</td>\n",
       "      <td>40</td>\n",
       "      <td>33</td>\n",
       "      <td>73</td>\n",
       "      <td>0.452055</td>\n",
       "    </tr>\n",
       "    <tr>\n",
       "      <th>4</th>\n",
       "      <td>Afflalo, Arron</td>\n",
       "      <td>177</td>\n",
       "      <td>244</td>\n",
       "      <td>421</td>\n",
       "      <td>0.579572</td>\n",
       "    </tr>\n",
       "    <tr>\n",
       "      <th>...</th>\n",
       "      <td>...</td>\n",
       "      <td>...</td>\n",
       "      <td>...</td>\n",
       "      <td>...</td>\n",
       "      <td>...</td>\n",
       "    </tr>\n",
       "    <tr>\n",
       "      <th>466</th>\n",
       "      <td>Young, James</td>\n",
       "      <td>25</td>\n",
       "      <td>26</td>\n",
       "      <td>51</td>\n",
       "      <td>0.509804</td>\n",
       "    </tr>\n",
       "    <tr>\n",
       "      <th>467</th>\n",
       "      <td>Young, Nick</td>\n",
       "      <td>78</td>\n",
       "      <td>128</td>\n",
       "      <td>206</td>\n",
       "      <td>0.621359</td>\n",
       "    </tr>\n",
       "    <tr>\n",
       "      <th>468</th>\n",
       "      <td>Young, Thaddeus</td>\n",
       "      <td>230</td>\n",
       "      <td>248</td>\n",
       "      <td>478</td>\n",
       "      <td>0.518828</td>\n",
       "    </tr>\n",
       "    <tr>\n",
       "      <th>469</th>\n",
       "      <td>Zeller, Cody</td>\n",
       "      <td>199</td>\n",
       "      <td>270</td>\n",
       "      <td>469</td>\n",
       "      <td>0.575693</td>\n",
       "    </tr>\n",
       "    <tr>\n",
       "      <th>470</th>\n",
       "      <td>Zeller, Tyler</td>\n",
       "      <td>241</td>\n",
       "      <td>287</td>\n",
       "      <td>528</td>\n",
       "      <td>0.543561</td>\n",
       "    </tr>\n",
       "  </tbody>\n",
       "</table>\n",
       "<p>471 rows × 5 columns</p>\n",
       "</div>"
      ],
      "text/plain": [
       "SHOT_RESULT CLOSEST_DEFENDER  made  missed  total_shots_defended  \\\n",
       "0                Acy, Quincy    83     121                   204   \n",
       "1              Adams, Jordan    12      11                    23   \n",
       "2              Adams, Steven   200     236                   436   \n",
       "3               Adrien, Jeff    40      33                    73   \n",
       "4             Afflalo, Arron   177     244                   421   \n",
       "..                       ...   ...     ...                   ...   \n",
       "466             Young, James    25      26                    51   \n",
       "467              Young, Nick    78     128                   206   \n",
       "468          Young, Thaddeus   230     248                   478   \n",
       "469             Zeller, Cody   199     270                   469   \n",
       "470            Zeller, Tyler   241     287                   528   \n",
       "\n",
       "SHOT_RESULT  successful_defense  \n",
       "0                      0.593137  \n",
       "1                      0.478261  \n",
       "2                      0.541284  \n",
       "3                      0.452055  \n",
       "4                      0.579572  \n",
       "..                          ...  \n",
       "466                    0.509804  \n",
       "467                    0.621359  \n",
       "468                    0.518828  \n",
       "469                    0.575693  \n",
       "470                    0.543561  \n",
       "\n",
       "[471 rows x 5 columns]"
      ]
     },
     "execution_count": 33,
     "metadata": {},
     "output_type": "execute_result"
    }
   ],
   "source": [
    "defense"
   ]
  },
  {
   "cell_type": "code",
   "execution_count": 53,
   "metadata": {},
   "outputs": [
    {
     "data": {
      "text/html": [
       "<div>\n",
       "<style scoped>\n",
       "    .dataframe tbody tr th:only-of-type {\n",
       "        vertical-align: middle;\n",
       "    }\n",
       "\n",
       "    .dataframe tbody tr th {\n",
       "        vertical-align: top;\n",
       "    }\n",
       "\n",
       "    .dataframe thead th {\n",
       "        text-align: right;\n",
       "    }\n",
       "</style>\n",
       "<table border=\"1\" class=\"dataframe\">\n",
       "  <thead>\n",
       "    <tr style=\"text-align: right;\">\n",
       "      <th>SHOT_RESULT</th>\n",
       "      <th>total_shots_defended</th>\n",
       "      <th>successful_defense</th>\n",
       "    </tr>\n",
       "    <tr>\n",
       "      <th>CLOSEST_DEFENDER</th>\n",
       "      <th></th>\n",
       "      <th></th>\n",
       "    </tr>\n",
       "  </thead>\n",
       "  <tbody>\n",
       "    <tr>\n",
       "      <th>Allen, Tony</th>\n",
       "      <td>263</td>\n",
       "      <td>0.657795</td>\n",
       "    </tr>\n",
       "    <tr>\n",
       "      <th>Roberson, Andre</th>\n",
       "      <td>291</td>\n",
       "      <td>0.635739</td>\n",
       "    </tr>\n",
       "    <tr>\n",
       "      <th>Bogdanovic, Bojan</th>\n",
       "      <td>284</td>\n",
       "      <td>0.616197</td>\n",
       "    </tr>\n",
       "    <tr>\n",
       "      <th>Bogut, Andrew</th>\n",
       "      <td>392</td>\n",
       "      <td>0.614796</td>\n",
       "    </tr>\n",
       "    <tr>\n",
       "      <th>Chalmers, Mario</th>\n",
       "      <td>333</td>\n",
       "      <td>0.609610</td>\n",
       "    </tr>\n",
       "    <tr>\n",
       "      <th>Mayo, O.J.</th>\n",
       "      <td>332</td>\n",
       "      <td>0.608434</td>\n",
       "    </tr>\n",
       "    <tr>\n",
       "      <th>Middleton, Khris</th>\n",
       "      <td>375</td>\n",
       "      <td>0.608000</td>\n",
       "    </tr>\n",
       "    <tr>\n",
       "      <th>Davis, Anthony</th>\n",
       "      <td>534</td>\n",
       "      <td>0.606742</td>\n",
       "    </tr>\n",
       "    <tr>\n",
       "      <th>Joseph, Cory</th>\n",
       "      <td>377</td>\n",
       "      <td>0.604775</td>\n",
       "    </tr>\n",
       "    <tr>\n",
       "      <th>Barnes, Matt</th>\n",
       "      <td>430</td>\n",
       "      <td>0.604651</td>\n",
       "    </tr>\n",
       "  </tbody>\n",
       "</table>\n",
       "</div>"
      ],
      "text/plain": [
       "SHOT_RESULT        total_shots_defended  successful_defense\n",
       "CLOSEST_DEFENDER                                           \n",
       "Allen, Tony                         263            0.657795\n",
       "Roberson, Andre                     291            0.635739\n",
       "Bogdanovic, Bojan                   284            0.616197\n",
       "Bogut, Andrew                       392            0.614796\n",
       "Chalmers, Mario                     333            0.609610\n",
       "Mayo, O.J.                          332            0.608434\n",
       "Middleton, Khris                    375            0.608000\n",
       "Davis, Anthony                      534            0.606742\n",
       "Joseph, Cory                        377            0.604775\n",
       "Barnes, Matt                        430            0.604651"
      ]
     },
     "execution_count": 53,
     "metadata": {},
     "output_type": "execute_result"
    }
   ],
   "source": [
    "# top 10 best defender by successful defense %, i.e. DFG\n",
    "defense[defense['total_shots_defended'] > min_shots_defended].sort_values('successful_defense', ascending=False)[['total_shots_defended', 'successful_defense']].head(10)\n"
   ]
  },
  {
   "cell_type": "code",
   "execution_count": 55,
   "metadata": {},
   "outputs": [
    {
     "data": {
      "text/html": [
       "<div>\n",
       "<style scoped>\n",
       "    .dataframe tbody tr th:only-of-type {\n",
       "        vertical-align: middle;\n",
       "    }\n",
       "\n",
       "    .dataframe tbody tr th {\n",
       "        vertical-align: top;\n",
       "    }\n",
       "\n",
       "    .dataframe thead th {\n",
       "        text-align: right;\n",
       "    }\n",
       "</style>\n",
       "<table border=\"1\" class=\"dataframe\">\n",
       "  <thead>\n",
       "    <tr style=\"text-align: right;\">\n",
       "      <th>SHOT_RESULT</th>\n",
       "      <th>total_shots_defended</th>\n",
       "      <th>successful_defense</th>\n",
       "    </tr>\n",
       "    <tr>\n",
       "      <th>CLOSEST_DEFENDER</th>\n",
       "      <th></th>\n",
       "      <th></th>\n",
       "    </tr>\n",
       "  </thead>\n",
       "  <tbody>\n",
       "    <tr>\n",
       "      <th>Harden, James</th>\n",
       "      <td>517</td>\n",
       "      <td>0.557060</td>\n",
       "    </tr>\n",
       "    <tr>\n",
       "      <th>James, LeBron</th>\n",
       "      <td>303</td>\n",
       "      <td>0.551155</td>\n",
       "    </tr>\n",
       "  </tbody>\n",
       "</table>\n",
       "</div>"
      ],
      "text/plain": [
       "SHOT_RESULT       total_shots_defended  successful_defense\n",
       "CLOSEST_DEFENDER                                          \n",
       "Harden, James                      517            0.557060\n",
       "James, LeBron                      303            0.551155"
      ]
     },
     "execution_count": 55,
     "metadata": {},
     "output_type": "execute_result"
    }
   ],
   "source": [
    "# people always say James Harden is a bad defender, but is it?\n",
    "defense[defense.index.isin(['James, LeBron', 'Harden, James'])][['total_shots_defended','successful_defense']]\n"
   ]
  },
  {
   "cell_type": "markdown",
   "metadata": {},
   "source": [
    "##### No. of FG denied per player"
   ]
  },
  {
   "cell_type": "code",
   "execution_count": 57,
   "metadata": {},
   "outputs": [
    {
     "data": {
      "text/plain": [
       "CLOSEST_DEFENDER\n",
       "Ibaka, Serge          431\n",
       "Green, Draymond       410\n",
       "Gasol, Pau            381\n",
       "Millsap, Paul         348\n",
       "Noah, Joakim          345\n",
       "Duncan, Tim           342\n",
       "Bledsoe, Eric         335\n",
       "Aldridge, LaMarcus    334\n",
       "Love, Kevin           331\n",
       "Jordan, DeAndre       330\n",
       "Name: missed, dtype: int64"
      ]
     },
     "execution_count": 57,
     "metadata": {},
     "output_type": "execute_result"
    }
   ],
   "source": [
    "# top 10 players with the most successfully defended field goal\n",
    "defense.sort_values('missed', ascending=False)['missed'].head(10)\n"
   ]
  },
  {
   "cell_type": "markdown",
   "metadata": {},
   "source": [
    "Wow! Eric Bledsoe, being just 1.85m tall, is the only Guard among the top 10 big boys defense players! His D is certainly under-appreciated!"
   ]
  },
  {
   "cell_type": "markdown",
   "metadata": {},
   "source": [
    "##### Points allowed per defensive play"
   ]
  },
  {
   "cell_type": "code",
   "execution_count": 58,
   "metadata": {},
   "outputs": [],
   "source": [
    "# average points allowed per defense\n",
    "total_pts_allowed = df.groupby('CLOSEST_DEFENDER', as_index=False).agg({'PTS':'sum'})\n",
    "defense = defense.reset_index().merge(total_pts_allowed,how='left', on='CLOSEST_DEFENDER')\n",
    "defense['pts_allowed_per_defense'] = defense['PTS']/defense['total_shots_defended']\n"
   ]
  },
  {
   "cell_type": "code",
   "execution_count": 59,
   "metadata": {},
   "outputs": [
    {
     "data": {
      "image/png": "[encoded data removed]",
      "text/plain": [
       "<Figure size 432x288 with 1 Axes>"
      ]
     },
     "metadata": {},
     "output_type": "display_data"
    }
   ],
   "source": [
    "pts_allowed_per_player = defense[defense['total_shots_defended'] > min_shots_defended].sort_values('pts_allowed_per_defense')\n",
    "\n",
    "# plot\n",
    "sns.histplot(pts_allowed_per_player['pts_allowed_per_defense'], bins=20)\n",
    "plt.title('Points Allowed per Defense', loc='left', pad=20, size=13, fontweight='bold')\n",
    "plt.show()"
   ]
  },
  {
   "cell_type": "code",
   "execution_count": 60,
   "metadata": {},
   "outputs": [
    {
     "data": {
      "text/html": [
       "<div>\n",
       "<style scoped>\n",
       "    .dataframe tbody tr th:only-of-type {\n",
       "        vertical-align: middle;\n",
       "    }\n",
       "\n",
       "    .dataframe tbody tr th {\n",
       "        vertical-align: top;\n",
       "    }\n",
       "\n",
       "    .dataframe thead th {\n",
       "        text-align: right;\n",
       "    }\n",
       "</style>\n",
       "<table border=\"1\" class=\"dataframe\">\n",
       "  <thead>\n",
       "    <tr style=\"text-align: right;\">\n",
       "      <th></th>\n",
       "      <th>CLOSEST_DEFENDER</th>\n",
       "      <th>total_shots_defended</th>\n",
       "      <th>pts_allowed_per_defense</th>\n",
       "    </tr>\n",
       "  </thead>\n",
       "  <tbody>\n",
       "    <tr>\n",
       "      <th>51</th>\n",
       "      <td>Bogut, Andrew</td>\n",
       "      <td>392</td>\n",
       "      <td>0.785714</td>\n",
       "    </tr>\n",
       "    <tr>\n",
       "      <th>10</th>\n",
       "      <td>Allen, Tony</td>\n",
       "      <td>263</td>\n",
       "      <td>0.787072</td>\n",
       "    </tr>\n",
       "    <tr>\n",
       "      <th>367</th>\n",
       "      <td>Roberson, Andre</td>\n",
       "      <td>291</td>\n",
       "      <td>0.804124</td>\n",
       "    </tr>\n",
       "    <tr>\n",
       "      <th>105</th>\n",
       "      <td>Davis, Anthony</td>\n",
       "      <td>534</td>\n",
       "      <td>0.831461</td>\n",
       "    </tr>\n",
       "    <tr>\n",
       "      <th>197</th>\n",
       "      <td>Henson, John</td>\n",
       "      <td>286</td>\n",
       "      <td>0.832168</td>\n",
       "    </tr>\n",
       "    <tr>\n",
       "      <th>...</th>\n",
       "      <td>...</td>\n",
       "      <td>...</td>\n",
       "      <td>...</td>\n",
       "    </tr>\n",
       "    <tr>\n",
       "      <th>66</th>\n",
       "      <td>Burke, Trey</td>\n",
       "      <td>441</td>\n",
       "      <td>1.147392</td>\n",
       "    </tr>\n",
       "    <tr>\n",
       "      <th>183</th>\n",
       "      <td>Hardaway Jr., Tim</td>\n",
       "      <td>317</td>\n",
       "      <td>1.154574</td>\n",
       "    </tr>\n",
       "    <tr>\n",
       "      <th>432</th>\n",
       "      <td>Varejao, Anderson</td>\n",
       "      <td>264</td>\n",
       "      <td>1.155303</td>\n",
       "    </tr>\n",
       "    <tr>\n",
       "      <th>253</th>\n",
       "      <td>LaVine, Zach</td>\n",
       "      <td>281</td>\n",
       "      <td>1.174377</td>\n",
       "    </tr>\n",
       "    <tr>\n",
       "      <th>345</th>\n",
       "      <td>Payton, Elfrid</td>\n",
       "      <td>383</td>\n",
       "      <td>1.180157</td>\n",
       "    </tr>\n",
       "  </tbody>\n",
       "</table>\n",
       "<p>212 rows × 3 columns</p>\n",
       "</div>"
      ],
      "text/plain": [
       "      CLOSEST_DEFENDER  total_shots_defended  pts_allowed_per_defense\n",
       "51       Bogut, Andrew                   392                 0.785714\n",
       "10         Allen, Tony                   263                 0.787072\n",
       "367    Roberson, Andre                   291                 0.804124\n",
       "105     Davis, Anthony                   534                 0.831461\n",
       "197       Henson, John                   286                 0.832168\n",
       "..                 ...                   ...                      ...\n",
       "66         Burke, Trey                   441                 1.147392\n",
       "183  Hardaway Jr., Tim                   317                 1.154574\n",
       "432  Varejao, Anderson                   264                 1.155303\n",
       "253       LaVine, Zach                   281                 1.174377\n",
       "345     Payton, Elfrid                   383                 1.180157\n",
       "\n",
       "[212 rows x 3 columns]"
      ]
     },
     "execution_count": 60,
     "metadata": {},
     "output_type": "execute_result"
    }
   ],
   "source": [
    "pts_allowed_per_player[['CLOSEST_DEFENDER','total_shots_defended', 'pts_allowed_per_defense']]\n"
   ]
  },
  {
   "cell_type": "markdown",
   "metadata": {},
   "source": [
    "### Offense"
   ]
  },
  {
   "cell_type": "markdown",
   "metadata": {},
   "source": [
    "##### Average FG attempts & shots made per game"
   ]
  },
  {
   "cell_type": "code",
   "execution_count": 61,
   "metadata": {},
   "outputs": [
    {
     "data": {
      "image/png": "[encoded data removed]",
      "text/plain": [
       "<Figure size 360x576 with 1 Axes>"
      ]
     },
     "metadata": {},
     "output_type": "display_data"
    }
   ],
   "source": [
    "# average fg attempts per team\n",
    "fg_per_team = df.groupby(['team', 'GAME_ID'])['SHOT_RESULT'].value_counts().unstack().reset_index()\n",
    "fg_per_team['total_fg'] = fg_per_team['made'] + fg_per_team['missed']\n",
    "fg_per_team = fg_per_team.groupby('team', as_index=False).mean().sort_values('total_fg')\n",
    "\n",
    "\n",
    "# plot\n",
    "plt.figure(figsize=(5, 8))\n",
    "sns.barplot(data=fg_per_team, x='total_fg',\n",
    "            y='team', color='#008fd5', saturation=1)\n",
    "sns.barplot(data=fg_per_team, x='made',\n",
    "            y='team', color='#fc4f30', saturation=1)\n",
    "plt.title('Avg. FG & Made Shots per Team',loc='left', size=13, fontweight='bold')\n",
    "plt.xlabel(\"\")\n",
    "plt.yticks(size=9)\n",
    "plt.xticks(size=9)\n",
    "plt.show()\n"
   ]
  },
  {
   "cell_type": "markdown",
   "metadata": {},
   "source": [
    "#### Team play style"
   ]
  },
  {
   "cell_type": "code",
   "execution_count": 62,
   "metadata": {},
   "outputs": [],
   "source": [
    "# classify shot type by shot clock remaining:\n",
    "# clutch shot - 0-6s\n",
    "# regular shot - 6-18s\n",
    "# quick shot - 18-24s\n",
    "\n",
    "def classify_shot_type(x):\n",
    "    if x <=6:\n",
    "        return 'clutch'\n",
    "    elif 6< x <= 18:\n",
    "        return 'regular'\n",
    "    else:\n",
    "        return 'quick'    \n",
    "\n",
    "df['SHOT_TYPE'] = df['SHOT_CLOCK'].apply(classify_shot_type)\n"
   ]
  },
  {
   "cell_type": "markdown",
   "metadata": {},
   "source": [
    "The more 'quick' shots the team attempted, the faster the play style of the team, i.e. the run-and-gun play style."
   ]
  },
  {
   "cell_type": "code",
   "execution_count": 63,
   "metadata": {},
   "outputs": [],
   "source": [
    "shot_type = df.groupby(['team','GAME_ID'])['SHOT_TYPE'].value_counts().unstack().reset_index().dropna()\n",
    "shot_type = shot_type.groupby('team').mean()[['clutch','regular','quick']]\n",
    "\n",
    "# convert numbers into percentage on axis 1\n",
    "shot_type_percent = shot_type.div(shot_type.sum(axis=1),axis=0).sort_values('quick', ascending=False)"
   ]
  },
  {
   "cell_type": "code",
   "execution_count": 64,
   "metadata": {},
   "outputs": [
    {
     "data": {
      "image/png": "[encoded data removed]",
      "text/plain": [
       "<Figure size 360x576 with 1 Axes>"
      ]
     },
     "metadata": {},
     "output_type": "display_data"
    }
   ],
   "source": [
    "# plot 100% stacked bar chart\n",
    "shot_type_percent.plot(kind='barh', stacked=True, figsize=(5,8))\n",
    "plt.title('Shot Type', size=13, fontweight='bold', loc='left')\n",
    "plt.legend(loc='best', fontsize=10, ncol=3, edgecolor='#fafafa', bbox_to_anchor=(0.25, 0.99))\n",
    "plt.xlabel(\"\")\n",
    "plt.yticks(size=9)\n",
    "plt.xticks(size=9)\n",
    "plt.show()\n"
   ]
  },
  {
   "cell_type": "markdown",
   "metadata": {},
   "source": [
    "##### Shot difficulty by defense distance"
   ]
  },
  {
   "cell_type": "code",
   "execution_count": 65,
   "metadata": {},
   "outputs": [
    {
     "data": {
      "image/png": "[encoded data removed]",
      "text/plain": [
       "<Figure size 432x288 with 1 Axes>"
      ]
     },
     "metadata": {},
     "output_type": "display_data"
    }
   ],
   "source": [
    "# shot selection - team's ability to find the open man\n",
    "sns.histplot(df['CLOSE_DEF_DIST'],bins=50)\n",
    "plt.title('Closest Defender Distance', loc='left', pad=20, size=13, fontweight='bold')\n",
    "plt.show()"
   ]
  },
  {
   "cell_type": "code",
   "execution_count": 66,
   "metadata": {},
   "outputs": [
    {
     "data": {
      "text/plain": [
       "count    113160.000000\n",
       "mean          4.116540\n",
       "std           2.743667\n",
       "min           0.000000\n",
       "25%           2.300000\n",
       "50%           3.700000\n",
       "75%           5.300000\n",
       "max          52.600000\n",
       "Name: CLOSE_DEF_DIST, dtype: float64"
      ]
     },
     "execution_count": 66,
     "metadata": {},
     "output_type": "execute_result"
    }
   ],
   "source": [
    "df['CLOSE_DEF_DIST'].describe()"
   ]
  },
  {
   "cell_type": "code",
   "execution_count": 67,
   "metadata": {},
   "outputs": [],
   "source": [
    "# classify shot difficulty by closest defense distance\n",
    "def classify_def_type(x):\n",
    "    if x <= 2:\n",
    "        return 'contested'\n",
    "    elif 2 < x <= 3:\n",
    "        return 'tight'\n",
    "    elif 3 < x <= 5:\n",
    "        return 'regular'\n",
    "    elif 5 < x <= 8:\n",
    "        return 'open'\n",
    "    else:\n",
    "        return 'wide open'\n",
    "\n",
    "df['defense_type'] = df['CLOSE_DEF_DIST'].apply(classify_def_type)"
   ]
  },
  {
   "cell_type": "code",
   "execution_count": 68,
   "metadata": {},
   "outputs": [
    {
     "data": {
      "image/png": "[encoded data removed]",
      "text/plain": [
       "<Figure size 432x288 with 1 Axes>"
      ]
     },
     "metadata": {},
     "output_type": "display_data"
    }
   ],
   "source": [
    "def_type_count = df.groupby('defense_type', as_index=False).size()\n",
    "\n",
    "# plot overall defense type distribution\n",
    "squarify.plot(sizes=def_type_count['size'],\n",
    "              label=def_type_count['defense_type'], color=fivethirtyeight_colors)\n",
    "plt.title('Overall Shot Type/Difficulty Distribution', loc='left',pad=20, size=13, fontweight='bold')\n",
    "plt.show()\n"
   ]
  },
  {
   "cell_type": "code",
   "execution_count": 69,
   "metadata": {},
   "outputs": [],
   "source": [
    "def plot_shot_type_by_team(defense=True):\n",
    "    team = 'opponent' if defense else 'team'\n",
    "    x = df.groupby([team, 'GAME_ID'])['defense_type'].value_counts().unstack().reset_index()\n",
    "    x = x.groupby(team).mean()[['contested', 'tight', 'regular', 'open', 'wide open']]\n",
    "    x = x.div(x.sum(axis=1), axis=0)\n",
    "    x['open_shots'] = x['open'] + x['wide open']\n",
    "    x = x.sort_values('open_shots')\n",
    "    x[['contested', 'tight', 'regular', 'open', 'wide open']].plot(kind='barh', stacked=True, figsize=(5, 8))\n",
    "    if defense:\n",
    "        plt.title('FG Type Allowed',loc='left', pad=20, size=13, fontweight='bold')\n",
    "    else:\n",
    "        plt.title('FG Type', loc='left', pad=20, size=13, fontweight='bold')\n",
    "    plt.legend(ncol=5, loc='upper center', fontsize=7.5,bbox_to_anchor=(0.48, 1.03), edgecolor='#f0f0f0')\n",
    "    plt.show()"
   ]
  },
  {
   "cell_type": "code",
   "execution_count": 70,
   "metadata": {},
   "outputs": [
    {
     "data": {
      "image/png": "[encoded data removed]",
      "text/plain": [
       "<Figure size 360x576 with 1 Axes>"
      ]
     },
     "metadata": {},
     "output_type": "display_data"
    }
   ],
   "source": [
    "# FG type by team\n",
    "plot_shot_type_by_team(defense=False)\n"
   ]
  },
  {
   "cell_type": "code",
   "execution_count": 71,
   "metadata": {},
   "outputs": [
    {
     "data": {
      "image/png": "[encoded data removed]",
      "text/plain": [
       "<Figure size 360x576 with 1 Axes>"
      ]
     },
     "metadata": {},
     "output_type": "display_data"
    }
   ],
   "source": [
    "# FG allowed of opponent by shot type\n",
    "plot_shot_type_by_team()"
   ]
  },
  {
   "cell_type": "markdown",
   "metadata": {},
   "source": [
    "##### Shot pressure & defense pressure"
   ]
  },
  {
   "cell_type": "code",
   "execution_count": 72,
   "metadata": {},
   "outputs": [],
   "source": [
    "# avg defender distance per FG \n",
    "shot_distance = df.groupby(['team'], as_index=False).mean()[['team','CLOSE_DEF_DIST']].sort_values('CLOSE_DEF_DIST', ascending=False).rename(columns={'CLOSE_DEF_DIST':'fg_dist_from_defender'})\n",
    "def_distance = df.groupby(['opponent'], as_index=False).mean()[['opponent', 'CLOSE_DEF_DIST']].sort_values('CLOSE_DEF_DIST', ascending=False).rename(columns={'opponent': 'team', 'CLOSE_DEF_DIST':'defense_dist'})\n",
    "distance = shot_distance.merge(def_distance, how='left', on='team')\n",
    "\n",
    "# evaluate team efficiency in terms of both fg distance & defense distance (fg_dist / defense_dist)\n",
    "distance['eff'] = distance['fg_dist_from_defender'] / distance['defense_dist']\n",
    "# sort by eff\n",
    "distance = distance.sort_values('eff', ascending=False)\n"
   ]
  },
  {
   "cell_type": "code",
   "execution_count": 73,
   "metadata": {},
   "outputs": [
    {
     "data": {
      "text/html": [
       "<div>\n",
       "<style scoped>\n",
       "    .dataframe tbody tr th:only-of-type {\n",
       "        vertical-align: middle;\n",
       "    }\n",
       "\n",
       "    .dataframe tbody tr th {\n",
       "        vertical-align: top;\n",
       "    }\n",
       "\n",
       "    .dataframe thead th {\n",
       "        text-align: right;\n",
       "    }\n",
       "</style>\n",
       "<table border=\"1\" class=\"dataframe\">\n",
       "  <thead>\n",
       "    <tr style=\"text-align: right;\">\n",
       "      <th></th>\n",
       "      <th>team</th>\n",
       "      <th>fg_dist_from_defender</th>\n",
       "      <th>defense_dist</th>\n",
       "      <th>eff</th>\n",
       "    </tr>\n",
       "  </thead>\n",
       "  <tbody>\n",
       "    <tr>\n",
       "      <th>2</th>\n",
       "      <td>POR</td>\n",
       "      <td>4.438298</td>\n",
       "      <td>3.930665</td>\n",
       "      <td>1.129147</td>\n",
       "    </tr>\n",
       "    <tr>\n",
       "      <th>6</th>\n",
       "      <td>PHX</td>\n",
       "      <td>4.308219</td>\n",
       "      <td>3.818060</td>\n",
       "      <td>1.128379</td>\n",
       "    </tr>\n",
       "    <tr>\n",
       "      <th>0</th>\n",
       "      <td>ATL</td>\n",
       "      <td>4.576728</td>\n",
       "      <td>4.075007</td>\n",
       "      <td>1.123122</td>\n",
       "    </tr>\n",
       "    <tr>\n",
       "      <th>9</th>\n",
       "      <td>SAS</td>\n",
       "      <td>4.189697</td>\n",
       "      <td>3.783838</td>\n",
       "      <td>1.107261</td>\n",
       "    </tr>\n",
       "    <tr>\n",
       "      <th>4</th>\n",
       "      <td>MIL</td>\n",
       "      <td>4.377990</td>\n",
       "      <td>4.025448</td>\n",
       "      <td>1.087578</td>\n",
       "    </tr>\n",
       "  </tbody>\n",
       "</table>\n",
       "</div>"
      ],
      "text/plain": [
       "  team  fg_dist_from_defender  defense_dist       eff\n",
       "2  POR               4.438298      3.930665  1.129147\n",
       "6  PHX               4.308219      3.818060  1.128379\n",
       "0  ATL               4.576728      4.075007  1.123122\n",
       "9  SAS               4.189697      3.783838  1.107261\n",
       "4  MIL               4.377990      4.025448  1.087578"
      ]
     },
     "execution_count": 73,
     "metadata": {},
     "output_type": "execute_result"
    }
   ],
   "source": [
    "distance.head()\n",
    " "
   ]
  },
  {
   "cell_type": "code",
   "execution_count": 74,
   "metadata": {},
   "outputs": [
    {
     "data": {
      "image/png": "[encoded data removed]",
      "text/plain": [
       "<Figure size 360x576 with 1 Axes>"
      ]
     },
     "metadata": {},
     "output_type": "display_data"
    }
   ],
   "source": [
    "# plot comparison between FG distance and defense distance\n",
    "plt.figure(figsize=(5,8))\n",
    "sns.barplot(data=distance, x=-1*distance['defense_dist'], y='team', color='#fc4f30', label='Defense Distance')\n",
    "sns.barplot(data=distance,\n",
    "            x=distance['fg_dist_from_defender'], y='team', color='#008fd5', label='FG Distance')\n",
    "plt.title('Defense Distance & Shot Distance', loc='left',pad=20, size=13, fontweight='bold')\n",
    "plt.legend(ncol=2, loc='lower center',bbox_to_anchor=(0.5, -0.1), edgecolor='#f0f0f0')\n",
    "plt.xlabel('feet',labelpad=30)\n",
    "# annotate eff\n",
    "for i,eff in enumerate(distance['eff']):\n",
    "    plt.annotate(f'{eff:.3f}', (5, 0.25+i))\n",
    "plt.show()"
   ]
  },
  {
   "cell_type": "markdown",
   "metadata": {},
   "source": [
    "##### Best long range shooters"
   ]
  },
  {
   "cell_type": "code",
   "execution_count": 75,
   "metadata": {},
   "outputs": [
    {
     "data": {
      "text/html": [
       "<div>\n",
       "<style scoped>\n",
       "    .dataframe tbody tr th:only-of-type {\n",
       "        vertical-align: middle;\n",
       "    }\n",
       "\n",
       "    .dataframe tbody tr th {\n",
       "        vertical-align: top;\n",
       "    }\n",
       "\n",
       "    .dataframe thead th {\n",
       "        text-align: right;\n",
       "    }\n",
       "</style>\n",
       "<table border=\"1\" class=\"dataframe\">\n",
       "  <thead>\n",
       "    <tr style=\"text-align: right;\">\n",
       "      <th></th>\n",
       "      <th>player_name</th>\n",
       "      <th>SHOT_DIST</th>\n",
       "      <th>SHOT_RESULT</th>\n",
       "    </tr>\n",
       "  </thead>\n",
       "  <tbody>\n",
       "    <tr>\n",
       "      <th>175</th>\n",
       "      <td>luke babbitt</td>\n",
       "      <td>23.317073</td>\n",
       "      <td>41</td>\n",
       "    </tr>\n",
       "    <tr>\n",
       "      <th>195</th>\n",
       "      <td>mike miller</td>\n",
       "      <td>23.007692</td>\n",
       "      <td>26</td>\n",
       "    </tr>\n",
       "    <tr>\n",
       "      <th>162</th>\n",
       "      <td>kyle korver</td>\n",
       "      <td>22.013839</td>\n",
       "      <td>224</td>\n",
       "    </tr>\n",
       "    <tr>\n",
       "      <th>42</th>\n",
       "      <td>channing frye</td>\n",
       "      <td>21.990714</td>\n",
       "      <td>140</td>\n",
       "    </tr>\n",
       "    <tr>\n",
       "      <th>101</th>\n",
       "      <td>hedo turkoglu</td>\n",
       "      <td>20.293333</td>\n",
       "      <td>45</td>\n",
       "    </tr>\n",
       "    <tr>\n",
       "      <th>249</th>\n",
       "      <td>steve blake</td>\n",
       "      <td>19.945570</td>\n",
       "      <td>79</td>\n",
       "    </tr>\n",
       "    <tr>\n",
       "      <th>138</th>\n",
       "      <td>jordan farmar</td>\n",
       "      <td>19.888525</td>\n",
       "      <td>61</td>\n",
       "    </tr>\n",
       "    <tr>\n",
       "      <th>129</th>\n",
       "      <td>joe harris</td>\n",
       "      <td>19.180000</td>\n",
       "      <td>35</td>\n",
       "    </tr>\n",
       "    <tr>\n",
       "      <th>58</th>\n",
       "      <td>damjan rudez</td>\n",
       "      <td>19.108750</td>\n",
       "      <td>80</td>\n",
       "    </tr>\n",
       "    <tr>\n",
       "      <th>127</th>\n",
       "      <td>jj redick</td>\n",
       "      <td>18.921739</td>\n",
       "      <td>299</td>\n",
       "    </tr>\n",
       "  </tbody>\n",
       "</table>\n",
       "</div>"
      ],
      "text/plain": [
       "       player_name  SHOT_DIST  SHOT_RESULT\n",
       "175   luke babbitt  23.317073           41\n",
       "195    mike miller  23.007692           26\n",
       "162    kyle korver  22.013839          224\n",
       "42   channing frye  21.990714          140\n",
       "101  hedo turkoglu  20.293333           45\n",
       "249    steve blake  19.945570           79\n",
       "138  jordan farmar  19.888525           61\n",
       "129     joe harris  19.180000           35\n",
       "58    damjan rudez  19.108750           80\n",
       "127      jj redick  18.921739          299"
      ]
     },
     "execution_count": 75,
     "metadata": {},
     "output_type": "execute_result"
    }
   ],
   "source": [
    "# avg made shot distance per player\n",
    "shot_distance = df[df['SHOT_RESULT']=='made'].groupby('player_name', as_index=False).agg({'SHOT_DIST':'mean','SHOT_RESULT':'count'}).sort_values('SHOT_DIST', ascending=False)\n",
    "shot_distance.head(10)"
   ]
  },
  {
   "cell_type": "markdown",
   "metadata": {},
   "source": [
    "##### Scoring efficiency by touch time"
   ]
  },
  {
   "cell_type": "code",
   "execution_count": 76,
   "metadata": {},
   "outputs": [
    {
     "data": {
      "text/html": [
       "<div>\n",
       "<style scoped>\n",
       "    .dataframe tbody tr th:only-of-type {\n",
       "        vertical-align: middle;\n",
       "    }\n",
       "\n",
       "    .dataframe tbody tr th {\n",
       "        vertical-align: top;\n",
       "    }\n",
       "\n",
       "    .dataframe thead th {\n",
       "        text-align: right;\n",
       "    }\n",
       "</style>\n",
       "<table border=\"1\" class=\"dataframe\">\n",
       "  <thead>\n",
       "    <tr style=\"text-align: right;\">\n",
       "      <th></th>\n",
       "      <th>shots made</th>\n",
       "      <th>PTS</th>\n",
       "      <th>TOUCH_TIME</th>\n",
       "      <th>scoring eff</th>\n",
       "    </tr>\n",
       "    <tr>\n",
       "      <th>player_name</th>\n",
       "      <th></th>\n",
       "      <th></th>\n",
       "      <th></th>\n",
       "      <th></th>\n",
       "    </tr>\n",
       "  </thead>\n",
       "  <tbody>\n",
       "    <tr>\n",
       "      <th>deandre jordan</th>\n",
       "      <td>280</td>\n",
       "      <td>2.000000</td>\n",
       "      <td>0.666786</td>\n",
       "      <td>2.999464</td>\n",
       "    </tr>\n",
       "    <tr>\n",
       "      <th>tyson chandler</th>\n",
       "      <td>230</td>\n",
       "      <td>2.000000</td>\n",
       "      <td>0.677391</td>\n",
       "      <td>2.952503</td>\n",
       "    </tr>\n",
       "    <tr>\n",
       "      <th>kyle korver</th>\n",
       "      <td>224</td>\n",
       "      <td>2.750000</td>\n",
       "      <td>1.037054</td>\n",
       "      <td>2.651743</td>\n",
       "    </tr>\n",
       "    <tr>\n",
       "      <th>rudy gobert</th>\n",
       "      <td>136</td>\n",
       "      <td>2.000000</td>\n",
       "      <td>0.762500</td>\n",
       "      <td>2.622951</td>\n",
       "    </tr>\n",
       "    <tr>\n",
       "      <th>channing frye</th>\n",
       "      <td>140</td>\n",
       "      <td>2.714286</td>\n",
       "      <td>1.035714</td>\n",
       "      <td>2.620690</td>\n",
       "    </tr>\n",
       "    <tr>\n",
       "      <th>...</th>\n",
       "      <td>...</td>\n",
       "      <td>...</td>\n",
       "      <td>...</td>\n",
       "      <td>...</td>\n",
       "    </tr>\n",
       "    <tr>\n",
       "      <th>john wall</th>\n",
       "      <td>392</td>\n",
       "      <td>2.119898</td>\n",
       "      <td>5.512500</td>\n",
       "      <td>0.384562</td>\n",
       "    </tr>\n",
       "    <tr>\n",
       "      <th>elfrid payton</th>\n",
       "      <td>184</td>\n",
       "      <td>2.010870</td>\n",
       "      <td>5.499457</td>\n",
       "      <td>0.365649</td>\n",
       "    </tr>\n",
       "    <tr>\n",
       "      <th>chris paul</th>\n",
       "      <td>425</td>\n",
       "      <td>2.228235</td>\n",
       "      <td>6.145882</td>\n",
       "      <td>0.362557</td>\n",
       "    </tr>\n",
       "    <tr>\n",
       "      <th>jarrett jack</th>\n",
       "      <td>260</td>\n",
       "      <td>2.092308</td>\n",
       "      <td>5.856154</td>\n",
       "      <td>0.357284</td>\n",
       "    </tr>\n",
       "    <tr>\n",
       "      <th>dennis schroder</th>\n",
       "      <td>182</td>\n",
       "      <td>2.142857</td>\n",
       "      <td>6.495604</td>\n",
       "      <td>0.329893</td>\n",
       "    </tr>\n",
       "  </tbody>\n",
       "</table>\n",
       "<p>281 rows × 4 columns</p>\n",
       "</div>"
      ],
      "text/plain": [
       "                 shots made       PTS  TOUCH_TIME  scoring eff\n",
       "player_name                                                   \n",
       "deandre jordan          280  2.000000    0.666786     2.999464\n",
       "tyson chandler          230  2.000000    0.677391     2.952503\n",
       "kyle korver             224  2.750000    1.037054     2.651743\n",
       "rudy gobert             136  2.000000    0.762500     2.622951\n",
       "channing frye           140  2.714286    1.035714     2.620690\n",
       "...                     ...       ...         ...          ...\n",
       "john wall               392  2.119898    5.512500     0.384562\n",
       "elfrid payton           184  2.010870    5.499457     0.365649\n",
       "chris paul              425  2.228235    6.145882     0.362557\n",
       "jarrett jack            260  2.092308    5.856154     0.357284\n",
       "dennis schroder         182  2.142857    6.495604     0.329893\n",
       "\n",
       "[281 rows x 4 columns]"
      ]
     },
     "execution_count": 76,
     "metadata": {},
     "output_type": "execute_result"
    }
   ],
   "source": [
    "# player scoring efficiency in terms of points per touch time\n",
    "scoring_eff = df[df['SHOT_RESULT']=='made'].groupby('player_name').agg({'SHOT_RESULT':'count','PTS':'mean','TOUCH_TIME':'mean'}).rename(columns={'SHOT_RESULT':'shots made'})\n",
    "scoring_eff['scoring eff'] = scoring_eff['PTS'] / scoring_eff['TOUCH_TIME']\n",
    "scoring_eff.sort_values('scoring eff', ascending=False)\n"
   ]
  },
  {
   "cell_type": "markdown",
   "metadata": {},
   "source": [
    "Understandably so, the big guys DeAndre Jordan, Tyson Chandler & Rudy Gobert made to the top of the list due to their nature--alley oops and put backs take virtually 0s touch time. But Kyle Korver and Channing Frye, they are certainly efficient shooters! "
   ]
  },
  {
   "cell_type": "markdown",
   "metadata": {},
   "source": [
    "##### Best scorer when the shot clock is counting down\n",
    "Who should you pass the ball to when the shot clock is winding down?"
   ]
  },
  {
   "cell_type": "code",
   "execution_count": 77,
   "metadata": {},
   "outputs": [
    {
     "data": {
      "text/html": [
       "<div>\n",
       "<style scoped>\n",
       "    .dataframe tbody tr th:only-of-type {\n",
       "        vertical-align: middle;\n",
       "    }\n",
       "\n",
       "    .dataframe tbody tr th {\n",
       "        vertical-align: top;\n",
       "    }\n",
       "\n",
       "    .dataframe thead th {\n",
       "        text-align: right;\n",
       "    }\n",
       "</style>\n",
       "<table border=\"1\" class=\"dataframe\">\n",
       "  <thead>\n",
       "    <tr style=\"text-align: right;\">\n",
       "      <th></th>\n",
       "      <th>PTS</th>\n",
       "    </tr>\n",
       "    <tr>\n",
       "      <th>player_name</th>\n",
       "      <th></th>\n",
       "    </tr>\n",
       "  </thead>\n",
       "  <tbody>\n",
       "    <tr>\n",
       "      <th>carlos boozer</th>\n",
       "      <td>98</td>\n",
       "    </tr>\n",
       "    <tr>\n",
       "      <th>jeremy lin</th>\n",
       "      <td>81</td>\n",
       "    </tr>\n",
       "    <tr>\n",
       "      <th>jordan hill</th>\n",
       "      <td>73</td>\n",
       "    </tr>\n",
       "    <tr>\n",
       "      <th>manu ginobili</th>\n",
       "      <td>70</td>\n",
       "    </tr>\n",
       "    <tr>\n",
       "      <th>wayne ellington</th>\n",
       "      <td>70</td>\n",
       "    </tr>\n",
       "    <tr>\n",
       "      <th>ed davis</th>\n",
       "      <td>66</td>\n",
       "    </tr>\n",
       "    <tr>\n",
       "      <th>james harden</th>\n",
       "      <td>65</td>\n",
       "    </tr>\n",
       "    <tr>\n",
       "      <th>john wall</th>\n",
       "      <td>64</td>\n",
       "    </tr>\n",
       "    <tr>\n",
       "      <th>damian lillard</th>\n",
       "      <td>63</td>\n",
       "    </tr>\n",
       "    <tr>\n",
       "      <th>nick young</th>\n",
       "      <td>63</td>\n",
       "    </tr>\n",
       "  </tbody>\n",
       "</table>\n",
       "</div>"
      ],
      "text/plain": [
       "                 PTS\n",
       "player_name         \n",
       "carlos boozer     98\n",
       "jeremy lin        81\n",
       "jordan hill       73\n",
       "manu ginobili     70\n",
       "wayne ellington   70\n",
       "ed davis          66\n",
       "james harden      65\n",
       "john wall         64\n",
       "damian lillard    63\n",
       "nick young        63"
      ]
     },
     "execution_count": 77,
     "metadata": {},
     "output_type": "execute_result"
    }
   ],
   "source": [
    "# best scorer when the shot clock is counting down\n",
    "clutch_scorer = df[(df['SHOT_CLOCK']) <= 3 & (df['SHOT_RESULT']=='made')].groupby('player_name').agg({'PTS':'sum'})\n",
    "clutch_scorer.sort_values('PTS', ascending=False).head(10)"
   ]
  },
  {
   "cell_type": "markdown",
   "metadata": {},
   "source": [
    "##### Best scorer in the 4th quarter\n",
    "Is 'Dame Time' for real? Is Lebron really invisible in the 4th?"
   ]
  },
  {
   "cell_type": "code",
   "execution_count": 78,
   "metadata": {},
   "outputs": [
    {
     "data": {
      "text/html": [
       "<div>\n",
       "<style scoped>\n",
       "    .dataframe tbody tr th:only-of-type {\n",
       "        vertical-align: middle;\n",
       "    }\n",
       "\n",
       "    .dataframe tbody tr th {\n",
       "        vertical-align: top;\n",
       "    }\n",
       "\n",
       "    .dataframe thead th {\n",
       "        text-align: right;\n",
       "    }\n",
       "</style>\n",
       "<table border=\"1\" class=\"dataframe\">\n",
       "  <thead>\n",
       "    <tr style=\"text-align: right;\">\n",
       "      <th></th>\n",
       "      <th>PERIOD</th>\n",
       "      <th>player_name</th>\n",
       "      <th>PTS</th>\n",
       "    </tr>\n",
       "  </thead>\n",
       "  <tbody>\n",
       "    <tr>\n",
       "      <th>948</th>\n",
       "      <td>4</td>\n",
       "      <td>jamal crawford</td>\n",
       "      <td>271</td>\n",
       "    </tr>\n",
       "    <tr>\n",
       "      <th>899</th>\n",
       "      <td>4</td>\n",
       "      <td>damian lillard</td>\n",
       "      <td>242</td>\n",
       "    </tr>\n",
       "    <tr>\n",
       "      <th>946</th>\n",
       "      <td>4</td>\n",
       "      <td>isaiah thomas</td>\n",
       "      <td>224</td>\n",
       "    </tr>\n",
       "    <tr>\n",
       "      <th>1040</th>\n",
       "      <td>4</td>\n",
       "      <td>mnta ellis</td>\n",
       "      <td>216</td>\n",
       "    </tr>\n",
       "    <tr>\n",
       "      <th>1118</th>\n",
       "      <td>4</td>\n",
       "      <td>wesley matthews</td>\n",
       "      <td>212</td>\n",
       "    </tr>\n",
       "    <tr>\n",
       "      <th>842</th>\n",
       "      <td>4</td>\n",
       "      <td>aaron brooks</td>\n",
       "      <td>208</td>\n",
       "    </tr>\n",
       "    <tr>\n",
       "      <th>845</th>\n",
       "      <td>4</td>\n",
       "      <td>al horford</td>\n",
       "      <td>200</td>\n",
       "    </tr>\n",
       "    <tr>\n",
       "      <th>1089</th>\n",
       "      <td>4</td>\n",
       "      <td>stephen curry</td>\n",
       "      <td>190</td>\n",
       "    </tr>\n",
       "    <tr>\n",
       "      <th>861</th>\n",
       "      <td>4</td>\n",
       "      <td>anthony davis</td>\n",
       "      <td>189</td>\n",
       "    </tr>\n",
       "    <tr>\n",
       "      <th>932</th>\n",
       "      <td>4</td>\n",
       "      <td>gerald green</td>\n",
       "      <td>187</td>\n",
       "    </tr>\n",
       "  </tbody>\n",
       "</table>\n",
       "</div>"
      ],
      "text/plain": [
       "      PERIOD      player_name  PTS\n",
       "948        4   jamal crawford  271\n",
       "899        4   damian lillard  242\n",
       "946        4    isaiah thomas  224\n",
       "1040       4       mnta ellis  216\n",
       "1118       4  wesley matthews  212\n",
       "842        4     aaron brooks  208\n",
       "845        4       al horford  200\n",
       "1089       4    stephen curry  190\n",
       "861        4    anthony davis  189\n",
       "932        4     gerald green  187"
      ]
     },
     "execution_count": 78,
     "metadata": {},
     "output_type": "execute_result"
    }
   ],
   "source": [
    "player_pts_by_period = df[df['SHOT_RESULT']=='made'].groupby(['PERIOD','player_name'], as_index=False).agg({'PTS':'sum'})\n",
    "player_pts_by_period[player_pts_by_period['PERIOD']==4].sort_values('PTS', ascending=False).head(10)\n"
   ]
  },
  {
   "cell_type": "code",
   "execution_count": 79,
   "metadata": {},
   "outputs": [
    {
     "data": {
      "text/html": [
       "<div>\n",
       "<style scoped>\n",
       "    .dataframe tbody tr th:only-of-type {\n",
       "        vertical-align: middle;\n",
       "    }\n",
       "\n",
       "    .dataframe tbody tr th {\n",
       "        vertical-align: top;\n",
       "    }\n",
       "\n",
       "    .dataframe thead th {\n",
       "        text-align: right;\n",
       "    }\n",
       "</style>\n",
       "<table border=\"1\" class=\"dataframe\">\n",
       "  <thead>\n",
       "    <tr style=\"text-align: right;\">\n",
       "      <th></th>\n",
       "      <th>PTS</th>\n",
       "    </tr>\n",
       "    <tr>\n",
       "      <th>player_name</th>\n",
       "      <th></th>\n",
       "    </tr>\n",
       "  </thead>\n",
       "  <tbody>\n",
       "    <tr>\n",
       "      <th>jamal crawford</th>\n",
       "      <td>271</td>\n",
       "    </tr>\n",
       "    <tr>\n",
       "      <th>damian lillard</th>\n",
       "      <td>266</td>\n",
       "    </tr>\n",
       "    <tr>\n",
       "      <th>mnta ellis</th>\n",
       "      <td>234</td>\n",
       "    </tr>\n",
       "    <tr>\n",
       "      <th>isaiah thomas</th>\n",
       "      <td>226</td>\n",
       "    </tr>\n",
       "    <tr>\n",
       "      <th>wesley matthews</th>\n",
       "      <td>222</td>\n",
       "    </tr>\n",
       "    <tr>\n",
       "      <th>aaron brooks</th>\n",
       "      <td>211</td>\n",
       "    </tr>\n",
       "    <tr>\n",
       "      <th>al horford</th>\n",
       "      <td>204</td>\n",
       "    </tr>\n",
       "    <tr>\n",
       "      <th>stephen curry</th>\n",
       "      <td>200</td>\n",
       "    </tr>\n",
       "    <tr>\n",
       "      <th>mike conley</th>\n",
       "      <td>192</td>\n",
       "    </tr>\n",
       "    <tr>\n",
       "      <th>anthony davis</th>\n",
       "      <td>191</td>\n",
       "    </tr>\n",
       "  </tbody>\n",
       "</table>\n",
       "</div>"
      ],
      "text/plain": [
       "                 PTS\n",
       "player_name         \n",
       "jamal crawford   271\n",
       "damian lillard   266\n",
       "mnta ellis       234\n",
       "isaiah thomas    226\n",
       "wesley matthews  222\n",
       "aaron brooks     211\n",
       "al horford       204\n",
       "stephen curry    200\n",
       "mike conley      192\n",
       "anthony davis    191"
      ]
     },
     "execution_count": 79,
     "metadata": {},
     "output_type": "execute_result"
    }
   ],
   "source": [
    "# pts in the 4th & beyond\n",
    "player_pts_by_period[player_pts_by_period['PERIOD']>= 4].groupby('player_name').agg({'PTS':'sum'}).sort_values('PTS', ascending=False).head(10)\n"
   ]
  },
  {
   "cell_type": "markdown",
   "metadata": {},
   "source": [
    "##### Hot hand phenomenon\n",
    "Does making several consecutive shots in advance increase the likelihood of the next shot going in?\n"
   ]
  },
  {
   "cell_type": "code",
   "execution_count": 80,
   "metadata": {},
   "outputs": [],
   "source": [
    "# function to find the previous shot result of a player in the same game\n",
    "def get_previous_shot_result(row):\n",
    "    player = row['player_name']\n",
    "    game_id = row['GAME_ID']\n",
    "    curr_shot_num = row['SHOT_NUMBER']\n",
    "    try:\n",
    "        previous_shot_result = df[(df['GAME_ID'] == game_id) & (df['player_name']== player) & (df['SHOT_NUMBER'] < curr_shot_num)]['SHOT_RESULT'].values[-1]\n",
    "        return 1 if previous_shot_result == 'made' else 0\n",
    "    except:\n",
    "        return 0\n",
    "    "
   ]
  },
  {
   "cell_type": "code",
   "execution_count": 83,
   "metadata": {},
   "outputs": [],
   "source": [
    "df['previous_shot_result'] = df.apply(get_previous_shot_result,axis=1)"
   ]
  },
  {
   "cell_type": "code",
   "execution_count": 84,
   "metadata": {},
   "outputs": [
    {
     "data": {
      "text/plain": [
       "<AxesSubplot:xlabel='SHOT_RESULT', ylabel='previous_shot_result'>"
      ]
     },
     "execution_count": 84,
     "metadata": {},
     "output_type": "execute_result"
    },
    {
     "data": {
      "image/png": "[encoded data removed]",
      "text/plain": [
       "<Figure size 432x288 with 2 Axes>"
      ]
     },
     "metadata": {},
     "output_type": "display_data"
    }
   ],
   "source": [
    "shot_result_per_prev_shot = df.groupby(['previous_shot_result'])['SHOT_RESULT'].value_counts().unstack()\n",
    "sns.heatmap(shot_result_per_prev_shot, annot=True, fmt='2g', cmap='Blues')\n"
   ]
  },
  {
   "cell_type": "code",
   "execution_count": 85,
   "metadata": {},
   "outputs": [
    {
     "data": {
      "text/html": [
       "<div>\n",
       "<style scoped>\n",
       "    .dataframe tbody tr th:only-of-type {\n",
       "        vertical-align: middle;\n",
       "    }\n",
       "\n",
       "    .dataframe tbody tr th {\n",
       "        vertical-align: top;\n",
       "    }\n",
       "\n",
       "    .dataframe thead th {\n",
       "        text-align: right;\n",
       "    }\n",
       "</style>\n",
       "<table border=\"1\" class=\"dataframe\">\n",
       "  <thead>\n",
       "    <tr style=\"text-align: right;\">\n",
       "      <th>SHOT_RESULT</th>\n",
       "      <th>made</th>\n",
       "      <th>missed</th>\n",
       "      <th>%</th>\n",
       "    </tr>\n",
       "    <tr>\n",
       "      <th>previous_shot_result</th>\n",
       "      <th></th>\n",
       "      <th></th>\n",
       "      <th></th>\n",
       "    </tr>\n",
       "  </thead>\n",
       "  <tbody>\n",
       "    <tr>\n",
       "      <th>0</th>\n",
       "      <td>30459</td>\n",
       "      <td>36569</td>\n",
       "      <td>0.454422</td>\n",
       "    </tr>\n",
       "    <tr>\n",
       "      <th>1</th>\n",
       "      <td>20681</td>\n",
       "      <td>25451</td>\n",
       "      <td>0.448301</td>\n",
       "    </tr>\n",
       "  </tbody>\n",
       "</table>\n",
       "</div>"
      ],
      "text/plain": [
       "SHOT_RESULT            made  missed         %\n",
       "previous_shot_result                         \n",
       "0                     30459   36569  0.454422\n",
       "1                     20681   25451  0.448301"
      ]
     },
     "execution_count": 85,
     "metadata": {},
     "output_type": "execute_result"
    }
   ],
   "source": [
    "# FG percentage given previous shot result\n",
    "shot_result_per_prev_shot['%'] = shot_result_per_prev_shot['made'] / (shot_result_per_prev_shot['made']+shot_result_per_prev_shot['missed'])\n",
    "shot_result_per_prev_shot\n"
   ]
  },
  {
   "cell_type": "markdown",
   "metadata": {},
   "source": [
    "Making a shot might give u a confidence boost, but apparently it does not make your next shot more likely to go in. Even worse, you are slightly more likely to miss your next shot than if you'd missed your prior shot."
   ]
  },
  {
   "cell_type": "code",
   "execution_count": 86,
   "metadata": {},
   "outputs": [],
   "source": [
    "df['previous_shot_result'] = df.apply(get_previous_shot_result, axis=1) "
   ]
  },
  {
   "cell_type": "code",
   "execution_count": 87,
   "metadata": {},
   "outputs": [],
   "source": [
    "def get_prev_consecutive_shot_made(row):\n",
    "    player = row['player_name']\n",
    "    game_id = row['GAME_ID']\n",
    "    curr_shot_num = row['SHOT_NUMBER']\n",
    "    try:\n",
    "        previous_shot_results = df[(df['GAME_ID'] == game_id) & (df['player_name'] == player) & (\n",
    "            df['SHOT_NUMBER'] < curr_shot_num)]['SHOT_RESULT'].values\n",
    "        count = 0\n",
    "        for i in previous_shot_results[::-1]:\n",
    "            if i == 'missed':\n",
    "                break\n",
    "            else:\n",
    "                count+=1\n",
    "        return count\n",
    "    except:\n",
    "        return 0\n",
    "    "
   ]
  },
  {
   "cell_type": "code",
   "execution_count": 88,
   "metadata": {},
   "outputs": [],
   "source": [
    "df['consecutive_shot_made'] = df.apply(get_prev_consecutive_shot_made, axis=1)"
   ]
  },
  {
   "cell_type": "code",
   "execution_count": 89,
   "metadata": {},
   "outputs": [],
   "source": [
    "consecutive_shot = df.groupby(['consecutive_shot_made'])['SHOT_RESULT'].value_counts().unstack()\n",
    "consecutive_shot['%'] = consecutive_shot['made'] / (consecutive_shot['made']+consecutive_shot['missed'])"
   ]
  },
  {
   "cell_type": "code",
   "execution_count": 90,
   "metadata": {},
   "outputs": [
    {
     "data": {
      "text/html": [
       "<div>\n",
       "<style scoped>\n",
       "    .dataframe tbody tr th:only-of-type {\n",
       "        vertical-align: middle;\n",
       "    }\n",
       "\n",
       "    .dataframe tbody tr th {\n",
       "        vertical-align: top;\n",
       "    }\n",
       "\n",
       "    .dataframe thead th {\n",
       "        text-align: right;\n",
       "    }\n",
       "</style>\n",
       "<table border=\"1\" class=\"dataframe\">\n",
       "  <thead>\n",
       "    <tr style=\"text-align: right;\">\n",
       "      <th>SHOT_RESULT</th>\n",
       "      <th>made</th>\n",
       "      <th>missed</th>\n",
       "      <th>%</th>\n",
       "    </tr>\n",
       "    <tr>\n",
       "      <th>consecutive_shot_made</th>\n",
       "      <th></th>\n",
       "      <th></th>\n",
       "      <th></th>\n",
       "    </tr>\n",
       "  </thead>\n",
       "  <tbody>\n",
       "    <tr>\n",
       "      <th>0</th>\n",
       "      <td>30459.0</td>\n",
       "      <td>36569.0</td>\n",
       "      <td>0.454422</td>\n",
       "    </tr>\n",
       "    <tr>\n",
       "      <th>1</th>\n",
       "      <td>12412.0</td>\n",
       "      <td>15194.0</td>\n",
       "      <td>0.449612</td>\n",
       "    </tr>\n",
       "    <tr>\n",
       "      <th>2</th>\n",
       "      <td>5049.0</td>\n",
       "      <td>6181.0</td>\n",
       "      <td>0.449599</td>\n",
       "    </tr>\n",
       "    <tr>\n",
       "      <th>3</th>\n",
       "      <td>2006.0</td>\n",
       "      <td>2472.0</td>\n",
       "      <td>0.447968</td>\n",
       "    </tr>\n",
       "    <tr>\n",
       "      <th>4</th>\n",
       "      <td>766.0</td>\n",
       "      <td>1014.0</td>\n",
       "      <td>0.430337</td>\n",
       "    </tr>\n",
       "    <tr>\n",
       "      <th>5</th>\n",
       "      <td>269.0</td>\n",
       "      <td>389.0</td>\n",
       "      <td>0.408815</td>\n",
       "    </tr>\n",
       "    <tr>\n",
       "      <th>6</th>\n",
       "      <td>104.0</td>\n",
       "      <td>130.0</td>\n",
       "      <td>0.444444</td>\n",
       "    </tr>\n",
       "    <tr>\n",
       "      <th>7</th>\n",
       "      <td>45.0</td>\n",
       "      <td>44.0</td>\n",
       "      <td>0.505618</td>\n",
       "    </tr>\n",
       "    <tr>\n",
       "      <th>8</th>\n",
       "      <td>14.0</td>\n",
       "      <td>18.0</td>\n",
       "      <td>0.437500</td>\n",
       "    </tr>\n",
       "    <tr>\n",
       "      <th>9</th>\n",
       "      <td>8.0</td>\n",
       "      <td>4.0</td>\n",
       "      <td>0.666667</td>\n",
       "    </tr>\n",
       "    <tr>\n",
       "      <th>10</th>\n",
       "      <td>3.0</td>\n",
       "      <td>3.0</td>\n",
       "      <td>0.500000</td>\n",
       "    </tr>\n",
       "    <tr>\n",
       "      <th>11</th>\n",
       "      <td>2.0</td>\n",
       "      <td>1.0</td>\n",
       "      <td>0.666667</td>\n",
       "    </tr>\n",
       "    <tr>\n",
       "      <th>12</th>\n",
       "      <td>2.0</td>\n",
       "      <td>NaN</td>\n",
       "      <td>NaN</td>\n",
       "    </tr>\n",
       "    <tr>\n",
       "      <th>13</th>\n",
       "      <td>1.0</td>\n",
       "      <td>1.0</td>\n",
       "      <td>0.500000</td>\n",
       "    </tr>\n",
       "  </tbody>\n",
       "</table>\n",
       "</div>"
      ],
      "text/plain": [
       "SHOT_RESULT               made   missed         %\n",
       "consecutive_shot_made                            \n",
       "0                      30459.0  36569.0  0.454422\n",
       "1                      12412.0  15194.0  0.449612\n",
       "2                       5049.0   6181.0  0.449599\n",
       "3                       2006.0   2472.0  0.447968\n",
       "4                        766.0   1014.0  0.430337\n",
       "5                        269.0    389.0  0.408815\n",
       "6                        104.0    130.0  0.444444\n",
       "7                         45.0     44.0  0.505618\n",
       "8                         14.0     18.0  0.437500\n",
       "9                          8.0      4.0  0.666667\n",
       "10                         3.0      3.0  0.500000\n",
       "11                         2.0      1.0  0.666667\n",
       "12                         2.0      NaN       NaN\n",
       "13                         1.0      1.0  0.500000"
      ]
     },
     "execution_count": 90,
     "metadata": {},
     "output_type": "execute_result"
    }
   ],
   "source": [
    "consecutive_shot\n"
   ]
  },
  {
   "cell_type": "code",
   "execution_count": 91,
   "metadata": {},
   "outputs": [
    {
     "data": {
      "image/png": "[encoded data removed]",
      "text/plain": [
       "<Figure size 432x288 with 1 Axes>"
      ]
     },
     "metadata": {},
     "output_type": "display_data"
    }
   ],
   "source": [
    "# plot\n",
    "sns.barplot(x=consecutive_shot.index, y=consecutive_shot['%'], color='#008fd5')\n",
    "plt.title('FG% by Previous Consecutive Shots Made',loc='left', pad=20, size=13, fontweight='bold')\n",
    "plt.xlabel('')\n",
    "plt.show()"
   ]
  },
  {
   "cell_type": "markdown",
   "metadata": {},
   "source": [
    "Overall, we see little to no significance in the hot hand phenomenon-- past performance does not guarantee future results. Yet, surprisingly, players shoot the worst when they have made 5 shots in a row in advance."
   ]
  },
  {
   "cell_type": "markdown",
   "metadata": {},
   "source": [
    "##### How does shot result depend on other factors?"
   ]
  },
  {
   "cell_type": "code",
   "execution_count": 92,
   "metadata": {},
   "outputs": [],
   "source": [
    "from sklearn.linear_model import LogisticRegression"
   ]
  },
  {
   "cell_type": "code",
   "execution_count": 93,
   "metadata": {},
   "outputs": [],
   "source": [
    "X = df[['SHOT_NUMBER', 'PERIOD', 'SHOT_CLOCK', 'GAME_CLOCK','DRIBBLES', 'TOUCH_TIME',\n",
    "       'SHOT_DIST', 'CLOSE_DEF_DIST', 'consecutive_shot_made']]\n",
    "y = df['FGM']"
   ]
  },
  {
   "cell_type": "code",
   "execution_count": 94,
   "metadata": {},
   "outputs": [
    {
     "data": {
      "text/plain": [
       "LogisticRegression()"
      ]
     },
     "execution_count": 94,
     "metadata": {},
     "output_type": "execute_result"
    }
   ],
   "source": [
    "model = LogisticRegression()\n",
    "model.fit(X, y)"
   ]
  },
  {
   "cell_type": "code",
   "execution_count": 96,
   "metadata": {},
   "outputs": [
    {
     "data": {
      "image/png": "[encoded data removed]",
      "text/plain": [
       "<Figure size 432x288 with 1 Axes>"
      ]
     },
     "metadata": {},
     "output_type": "display_data"
    }
   ],
   "source": [
    "# plot \n",
    "sns.barplot(x=X.columns, y=model.coef_[0], color='#008fd5')\n",
    "plt.xticks(rotation=90)\n",
    "plt.show()"
   ]
  }
 ],
 "metadata": {
  "interpreter": {
   "hash": "df3282b00461d0da48b5084f73affef31b9a54f8b85365a0cd8e11fce37c74e1"
  },
  "kernelspec": {
   "display_name": "Python 3.9.7 ('base')",
   "language": "python",
   "name": "python3"
  },
  "language_info": {
   "codemirror_mode": {
    "name": "ipython",
    "version": 3
   },
   "file_extension": ".py",
   "mimetype": "text/x-python",
   "name": "python",
   "nbconvert_exporter": "python",
   "pygments_lexer": "ipython3",
   "version": "3.9.7"
  },
  "orig_nbformat": 4
 },
 "nbformat": 4,
 "nbformat_minor": 2
}
